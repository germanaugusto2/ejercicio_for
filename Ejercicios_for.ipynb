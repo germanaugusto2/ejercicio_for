{
  "nbformat": 4,
  "nbformat_minor": 0,
  "metadata": {
    "colab": {
      "provenance": [],
      "authorship_tag": "ABX9TyNnlrjFbWYdYshV4E1bh9wx",
      "include_colab_link": true
    },
    "kernelspec": {
      "name": "python3",
      "display_name": "Python 3"
    },
    "language_info": {
      "name": "python"
    }
  },
  "cells": [
    {
      "cell_type": "markdown",
      "metadata": {
        "id": "view-in-github",
        "colab_type": "text"
      },
      "source": [
        "<a href=\"https://colab.research.google.com/github/germanaugusto2/ejercicio_for/blob/main/Ejercicios_for.ipynb\" target=\"_parent\"><img src=\"https://colab.research.google.com/assets/colab-badge.svg\" alt=\"Open In Colab\"/></a>"
      ]
    },
    {
      "cell_type": "markdown",
      "source": [
        "instruccion repetitiva en for"
      ],
      "metadata": {
        "id": "w7iI1w4Ir-DM"
      }
    },
    {
      "cell_type": "code",
      "execution_count": null,
      "metadata": {
        "id": "7zAxXiftrfYJ"
      },
      "outputs": [],
      "source": [
        "# Ejercicio 1: mostrar los numeros del 1 al 10, sin usar instrucciones repetitivas\n",
        "\n",
        "print(1)\n",
        "print(2)\n",
        "print(3)\n",
        "print(4)\n",
        "print(5)\n",
        "print(6)\n",
        "print(7)\n",
        "print(8)\n",
        "print(9)\n",
        "print(10)"
      ]
    },
    {
      "cell_type": "code",
      "source": [
        "# Ejercicio 2:mostrar los numeros del 1 al 10, usando la instruccion while\n",
        "\n",
        "contador = 1\n",
        "print(contador)\n",
        "while contador <10:\n",
        "  #contador = contador + 1\n",
        "  contador += 1\n",
        "  print(contador)\n",
        "    "
      ],
      "metadata": {
        "id": "WhnNsiq0teaR"
      },
      "execution_count": null,
      "outputs": []
    },
    {
      "cell_type": "code",
      "source": [
        "# Ejercicio 3: mostrar los numeros del 1 al 10, usando la instrucucion for y una lista iterable\n",
        "\n",
        "for i in [1,2,3,4,5,6,7,8,9,10]:\n",
        "  print(i)"
      ],
      "metadata": {
        "id": "F4xKzge9vShJ"
      },
      "execution_count": null,
      "outputs": []
    },
    {
      "cell_type": "code",
      "source": [
        " # Ejercicio 4: mostrar los numeros del 1 al 10, usando la funcion for y la funcion range\n",
        "\n",
        "for i in range(1,11):\n",
        "  print(i)"
      ],
      "metadata": {
        "id": "b7UX_p98wwfB"
      },
      "execution_count": null,
      "outputs": []
    },
    {
      "cell_type": "code",
      "source": [
        "# Ejercicio 5: mostrar una frase 10 veces usando la instruccion for y una lista\n",
        "\n",
        "for i in [1,2,3,4,5,6,7,8,9,10]:\n",
        "  print(f\"{i}sistemas el mejor!!!\")"
      ],
      "metadata": {
        "id": "AW3D6IBRxeCU"
      },
      "execution_count": null,
      "outputs": []
    },
    {
      "cell_type": "code",
      "source": [
        "# Ejercicio 6: mostrar la silaba inicial de los  dias de la semana, usando for y una silaba inicial de los dias de la semana\n",
        "\n",
        "dias_semana = [\"lu\",  \"ma\", \"mi\", \"ju\", \"vi\", \"sa\", \"do\"]\n",
        "for i in dias_semana:\n",
        "  print(i)"
      ],
      "metadata": {
        "id": "OVY69uf0yh35"
      },
      "execution_count": null,
      "outputs": []
    },
    {
      "cell_type": "code",
      "source": [
        "# Ejercicio 7: mostar una lista de distintos tipos de datos, usando for\n",
        "\n",
        "lista = [1, 3, 4, 9, True , \"nestor\",8, \"guanenta\"]\n",
        "for i in lista:\n",
        "  print(i)"
      ],
      "metadata": {
        "id": "90W08U9pzv60"
      },
      "execution_count": null,
      "outputs": []
    },
    {
      "cell_type": "code",
      "source": [
        "# Ejercicio 8: ingrear su nombre y mostrarlo letra a letra, usando for.\n",
        "\n",
        "nombre = input(\"Digite su nombre: \")\n",
        "for letra in nombre:\n",
        "  print(letra)"
      ],
      "metadata": {
        "id": "fOZBiG8P0hzl"
      },
      "execution_count": null,
      "outputs": []
    },
    {
      "cell_type": "code",
      "source": [
        "# Ejercicio 9: ingresar su nombre y mostarlo letra a letra,usando for, cambiando por asterisco * a la vocal e\n",
        "\n",
        "nombre = input(\"Digite su nombre: \")\n",
        "for letra in nombre:\n",
        "   if letra == \"e\":\n",
        "     print(\"*\")\n",
        "else:\n",
        "       print(letra) "
      ],
      "metadata": {
        "id": "nmvZ6du41GfZ"
      },
      "execution_count": null,
      "outputs": []
    },
    {
      "cell_type": "code",
      "source": [
        "# Ejercicio 10: ingresar su nombre y mostarlo letra a letra, en mayuscula,usando for.\n",
        "\n",
        "nombre = input(\"Digite su nombre: \")\n",
        "for letra in nombre:\n",
        "  print(letra.upper())"
      ],
      "metadata": {
        "id": "PcOMlkBcAABv"
      },
      "execution_count": null,
      "outputs": []
    },
    {
      "cell_type": "code",
      "source": [
        "# Ejercicio 11: imprimir letras de numero usando for y range\n",
        "\n",
        "print(\"Numeros del 0 al 9\")\n",
        "for i in range(10):\n",
        "  print(i)\n",
        "\n",
        "  print(\"Numeros del 1 al 10\")\n",
        "  for i in range(1,11):\n",
        "    print(i)\n",
        "    \n",
        "print(\"10 veces la frase\")\n",
        "for i in range(10):\n",
        "  print(\"sistemas el mejor\")\n",
        "\n",
        "print(\"10 veces la frase i =\")\n",
        "for i in range(10):\n",
        "  print(\"i = \" + str(i))\n",
        "\n",
        "print(\"10 veces i = \")\n",
        "for i in range(10):\n",
        "  print(f\" i = {i}\")\n",
        "\n",
        "print(\"Rango del 7 al 18; incrementando en 4 en 4\")\n",
        "for i in range(7,19,4):\n",
        "  print(i)\n",
        "\n",
        "print(\"Convierte en rango en lista a, y la muestra\")\n",
        "a = list(range(1000))\n",
        "print(a)"
      ],
      "metadata": {
        "id": "fSdasbzTAypg"
      },
      "execution_count": null,
      "outputs": []
    },
    {
      "cell_type": "markdown",
      "source": [
        "#Ejercicios\n",
        "1. Dada la siguiente lista de numeros [20,21, 30, 41, 50, 51, 201]mostrar en pantalla solo los queno terminen 1.\n",
        "2. mostrar 1000 veces la palabra \"programacion\"\n",
        "3. Del conjunto decadenas [\"E\", \"F\", \"M\", \"A\"]que corresponden\n",
        "a las iniciales de los primeros 4 meses del año, mostrar el nombre completo  de dichos meses.\n",
        "4. Leer un texto y determinar cuantas veces dichos textos contiene cada una de las vocales en minuscula y/o mayuscula"
      ],
      "metadata": {
        "id": "FXpPjuWHHF6u"
      }
    },
    {
      "cell_type": "code",
      "source": [
        "#Ejercicio 1\n",
        "\n",
        "print(\"numeros que no terminen en 1\")\n",
        "numeros = [20, 21, 30, 41, 50, 51, 201]\n",
        "\n",
        "for num in numeros:\n",
        "  if num % 10 != 1:\n",
        "    print(num)"
      ],
      "metadata": {
        "id": "yzYWUO_CJvp7"
      },
      "execution_count": null,
      "outputs": []
    },
    {
      "cell_type": "code",
      "source": [
        "#EJERCICIO 2\n",
        "\n",
        "print(\"100 veces la plabra progromacion\")\n",
        "for i in range(100):\n",
        "    print(\"programacion\")"
      ],
      "metadata": {
        "id": "rSFSS1wLLuyd"
      },
      "execution_count": null,
      "outputs": []
    },
    {
      "cell_type": "code",
      "source": [
        "#ejercicio 3\n",
        "\n",
        "print(\"primeros 4 meses del año\")\n",
        "meses = {\n",
        "    \"E\": \"Enero\",\n",
        "    \"F\": \"Febrero\",\n",
        "    \"M\": \"Marzo\",\n",
        "    \"A\": \"Abril\"\n",
        "}\n",
        "\n",
        "for letra in [\"E\", \"F\", \"M\", \"A\"]:\n",
        "    print(meses[letra])"
      ],
      "metadata": {
        "id": "4rYA_BORMX4e"
      },
      "execution_count": null,
      "outputs": []
    },
    {
      "cell_type": "code",
      "source": [
        "#Ejercicio 4\n",
        "\n",
        "print(\"texto en minuscula y/o mayuscula\")\n",
        "texto = \"Este es un ejemplo de texto para contar las vocales\"\n",
        "recuento_vocales = {'a': 0, 'e': 0, 'i': 0, 'o': 0, 'u': 0}\n",
        "\n",
        "for caracter in texto:\n",
        "    if caracter.lower() in 'aeiou':\n",
        "        recuento_vocales[caracter.lower()] += 1\n",
        "\n",
        "print(\"Recuento de vocales en el texto:\")\n",
        "print(\"A: \", recuento_vocales['a'])\n",
        "print(\"E: \", recuento_vocales['e'])\n",
        "print(\"I: \", recuento_vocales['i'])\n",
        "print(\"O: \", recuento_vocales['o'])\n",
        "print(\"U: \", recuento_vocales['u'])"
      ],
      "metadata": {
        "id": "0NDPOcaxNXnv"
      },
      "execution_count": null,
      "outputs": []
    }
  ]
}